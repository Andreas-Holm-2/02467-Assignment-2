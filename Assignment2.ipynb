{
 "cells": [
  {
   "cell_type": "markdown",
   "metadata": {},
   "source": [
    "| Assignment 1 contribution table   | Andreas Holm Matthiassen (s234838) | Hector Helt Jakobsen (s234822) | Teis Aggerholm (s234822) |\n",
    "|-------------|---------|---------|---------|\n",
    "| Part 1 | 100%     | 0%     | 0%     |\n",
    "| Part 2 | 0%     | 100%     | 0%     |\n",
    "| Part 3 | 0%     | 0%     | 100%     |\n"
   ]
  },
  {
   "cell_type": "markdown",
   "metadata": {},
   "source": [
    "Link to our GitHub repository: `https://github.com/Andreas-Holm-2/02467-Assignment-2`"
   ]
  },
  {
   "cell_type": "markdown",
   "metadata": {},
   "source": [
    "# `Part 1:` Properties of the real-world network of Computational Social Scientists\n"
   ]
  },
  {
   "cell_type": "markdown",
   "metadata": {},
   "source": [
    "# `Part 2:` Network Analysis in Computational Social Science\n"
   ]
  },
  {
   "cell_type": "markdown",
   "metadata": {},
   "source": [
    "# `Part 3:` Words that characterize Computational Social Science communities\n"
   ]
  }
 ],
 "metadata": {
  "kernelspec": {
   "display_name": "Python 3",
   "language": "python",
   "name": "python3"
  },
  "language_info": {
   "codemirror_mode": {
    "name": "ipython",
    "version": 3
   },
   "file_extension": ".py",
   "mimetype": "text/x-python",
   "name": "python",
   "nbconvert_exporter": "python",
   "pygments_lexer": "ipython3",
   "version": "3.12.2"
  }
 },
 "nbformat": 4,
 "nbformat_minor": 2
}
